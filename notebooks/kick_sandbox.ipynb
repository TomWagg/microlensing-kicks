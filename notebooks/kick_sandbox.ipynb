{
 "cells": [
  {
   "cell_type": "code",
   "execution_count": null,
   "id": "b7d8b7ec-9668-4533-8433-f33bc5e8cba8",
   "metadata": {},
   "outputs": [],
   "source": [
    "import astropy.coordinates as coord\n",
    "import astropy.units as u\n",
    "from astropy.visualization import quantity_support\n",
    "quantity_support()\n",
    "\n",
    "import matplotlib as mpl\n",
    "import matplotlib.pyplot as plt\n",
    "import numpy as np\n",
    "\n",
    "# gala\n",
    "import gala.coordinates as gc\n",
    "import gala.dynamics as gd\n",
    "import gala.potential as gp\n",
    "from gala.units import galactic\n",
    "\n",
    "import gala as ga\n",
    "\n",
    "import sys\n",
    "sys.path.append(\"../src\")\n",
    "from kicks import integrate_orbits_with_kicks"
   ]
  },
  {
   "cell_type": "code",
   "execution_count": null,
   "id": "9be62ea5-1ba9-4426-8349-9b87a0e632b6",
   "metadata": {},
   "outputs": [],
   "source": [
    "%config InlineBackend.figure_format = 'retina'\n",
    "%matplotlib inline\n",
    "\n",
    "plt.rc('font', family='serif')\n",
    "plt.rcParams['text.usetex'] = False\n",
    "fs = 24\n",
    "\n",
    "# update various fontsizes to match\n",
    "params = {'figure.figsize': (12, 8),\n",
    "          'legend.fontsize': fs,\n",
    "          'axes.labelsize': fs,\n",
    "          'xtick.labelsize': 0.9 * fs,\n",
    "          'ytick.labelsize': 0.9 * fs,\n",
    "          'axes.linewidth': 1.1,\n",
    "          'xtick.major.size': 7,\n",
    "          'xtick.minor.size': 4,\n",
    "          'ytick.major.size': 7,\n",
    "          'ytick.minor.size': 4}\n",
    "plt.rcParams.update(params)"
   ]
  },
  {
   "cell_type": "code",
   "execution_count": null,
   "id": "bac18bb9-149b-4268-89e0-b413fcb51c99",
   "metadata": {},
   "outputs": [],
   "source": [
    "galcen_frame = coord.Galactocentric()"
   ]
  },
  {
   "cell_type": "code",
   "execution_count": null,
   "id": "b6813d3a-d106-4957-9997-fa29a41802c8",
   "metadata": {},
   "outputs": [],
   "source": [
    "sun_w0 = gd.PhaseSpacePosition(\n",
    "    pos=[-8.2, 0, 0.02] * u.kpc,\n",
    "    vel=galcen_frame.galcen_v_sun\n",
    ")"
   ]
  },
  {
   "cell_type": "code",
   "execution_count": null,
   "id": "378b3e23-9144-4fff-bec0-9dd1de3028c3",
   "metadata": {},
   "outputs": [],
   "source": [
    "c = coord.SkyCoord(ra=\"17:51:40.2082\", dec=\"-29:53:26.502\", unit=(u.hourangle, u.degree))\n",
    "cosdec = np.cos(c.dec) \n",
    "\n",
    "w0s = []\n",
    "\n",
    "for rv in np.linspace(-100, 100, 5):\n",
    "    c = coord.SkyCoord(\n",
    "        ra=\"17:51:40.2082\",\n",
    "        dec=\"-29:53:26.502\",\n",
    "        unit=(u.hourangle, u.degree),\n",
    "        distance=1.58*u.kpc,\n",
    "        pm_ra_cosdec=-4.36*u.mas/u.yr,# * cosdec,\n",
    "        pm_dec=3.06*u.mas/u.yr,\n",
    "        radial_velocity=rv*u.km/u.s\n",
    "    )\n",
    "\n",
    "    w0 = gd.PhaseSpacePosition(c.transform_to(galcen_frame).data)\n",
    "    w0s.append(w0)\n",
    "    \n",
    "w0s = gd.combine(w0s)"
   ]
  },
  {
   "cell_type": "code",
   "execution_count": null,
   "id": "5f2d09fe-7b13-44fd-b03e-86e0538fb46a",
   "metadata": {},
   "outputs": [],
   "source": [
    "orbits"
   ]
  },
  {
   "cell_type": "code",
   "execution_count": null,
   "id": "beeba8f7-e200-4300-b190-e52972aa16e9",
   "metadata": {
    "tags": []
   },
   "outputs": [],
   "source": [
    "pot = gp.MilkyWayPotential()\n",
    "orbits = pot.integrate_orbit(w0s, dt=4*u.Gyr / 4000, n_steps=4000)\n",
    "sun_orbit = pot.integrate_orbit(sun_w0, t=orbits.t)"
   ]
  },
  {
   "cell_type": "code",
   "execution_count": null,
   "id": "35cda70c-05eb-44d9-9da4-44a6d44c42eb",
   "metadata": {},
   "outputs": [],
   "source": [
    "no_kicks = integrate_orbits_with_kicks(w0s, dt=4*u.Gyr / 4000, n_steps=4000)"
   ]
  },
  {
   "cell_type": "code",
   "execution_count": null,
   "id": "c441f30d-1357-4d7f-a0bb-6ab3acfb60d3",
   "metadata": {},
   "outputs": [],
   "source": [
    "from scipy.stats import maxwell"
   ]
  },
  {
   "cell_type": "code",
   "execution_count": null,
   "id": "69766958-bfe4-4c91-b862-5455c8a9751a",
   "metadata": {},
   "outputs": [],
   "source": [
    "import gala as ga\n",
    "import numpy as np\n",
    "import astropy.coordinates as coord\n",
    "import astropy.units as u\n",
    "from scipy.stats import maxwell\n",
    "\n",
    "\n",
    "class Kick():\n",
    "    \"\"\"Represents a supernova kick: magnitudes of kicks in particular directions\"\"\"\n",
    "\n",
    "    def __init__(self, magnitude, phi, theta, t):\n",
    "        \"\"\"\n",
    "        Parameters\n",
    "        ----------\n",
    "        magnitude : `float/array`\n",
    "            Magnitude(s) of kicks corresponding to each object\n",
    "        phi : `float/array`\n",
    "            Magnitude(s) of kicks corresponding to each object\n",
    "        theta : `float/array`\n",
    "            Magnitude(s) of kicks corresponding to each object\n",
    "        t : `float`\n",
    "            Time at which the kick(s) occurred\n",
    "        \"\"\"\n",
    "        self.magnitude = magnitude if isinstance(magnitude, u.quantity.Quantity) else magnitude * u.km / u.s\n",
    "        self.phi = phi if isinstance(phi, u.quantity.Quantity) else phi * u.rad\n",
    "        self.theta = theta if isinstance(theta, u.quantity.Quantity) else theta * u.rad\n",
    "        self.t = t if isinstance(t, u.quantity.Quantity) else t * u.Gyr\n",
    "\n",
    "    def __getitem__(self, slice_):\n",
    "        if isinstance(slice_, np.ndarray) or isinstance(slice_, list):\n",
    "            slice_ = (slice_,)\n",
    "\n",
    "        try:\n",
    "            slice_ = tuple(slice_)\n",
    "        except TypeError:\n",
    "            slice_ = (slice_,)\n",
    "\n",
    "        return self.__class__(magnitude=self.magnitude[slice_],\n",
    "                              phi=self.phi[slice_],\n",
    "                              theta=self.theta[slice_],\n",
    "                              t=self.t)\n",
    "\n",
    "    def __repr__(self):\n",
    "        if isinstance(self.magnitude.value, float):\n",
    "            return \"<Kick, magnitude={:1.2f}, phi={:1.2f}, theta={:1.2f}, time={:1.2f}>\".format(self.magnitude, self.phi, self.theta)\n",
    "        else:\n",
    "            return \"<Kick, n_objects={}>\".format(len(self.magnitude))\n",
    "\n",
    "\n",
    "def integrate_orbits_with_kicks(w0, potential=ga.potential.MilkyWayPotential(), kicks=None, kick_times=None,\n",
    "                                maxwell_sigma=265 * u.km / u.s, same_angle=False, ret_kicks=False,\n",
    "                                **integrate_kwargs):\n",
    "    \"\"\"Integrate PhaseSpacePosition in a potential with kicks that occur at certain times\n",
    "\n",
    "    Parameters\n",
    "    ----------\n",
    "    potential : `ga.potential.PotentialBase`\n",
    "        Potential in which you which to integrate the orbits\n",
    "    w0 : `ga.dynamics.PhaseSpacePosition`, optional\n",
    "        Initial phase space position, by default the MilkyWayPotential()\n",
    "    kicks : `list`, optional\n",
    "        List of None, or list of kick magnitudes or list of tuples with kick magnitudes and angles,\n",
    "        by default None\n",
    "    kick_times : `list`, optional\n",
    "        Times at which kicks occur, by default None\n",
    "    maxwell_sigma : `float`\n",
    "        Sigma to use for the maxwellian for kick magnitudes\n",
    "    same_angle : `boolean`\n",
    "        Whether to use the same random kick angle for each individual orbit if several are provided\n",
    "    ret_kicks : `boolean`\n",
    "        Whether to return the kicks that were used in the evolution in addition to the orbits\n",
    "\n",
    "    Returns\n",
    "    -------\n",
    "    full_orbits : `ga.orbit.Orbit`\n",
    "        Orbits that have been integrated\n",
    "    \"\"\"\n",
    "    # if there are no kicks then just integrate the whole thing\n",
    "    if kicks is None and kick_times is None:\n",
    "        return potential.integrate_orbit(w0, **integrate_kwargs)\n",
    "\n",
    "    # otherwise make sure that both are there\n",
    "    elif kick_times is None:\n",
    "        raise ValueError(\"Kick times must be specified if kicks are used\")\n",
    "\n",
    "    # integrate using the kicks\n",
    "    else:\n",
    "        # create a list of None is nothing is given\n",
    "        if kicks is None:\n",
    "            kicks = [None for _ in range(len(kick_times))]\n",
    "\n",
    "        # work out what the timesteps would be without kicks\n",
    "        timesteps = ga.integrate.parse_time_specification(units=[u.s], **integrate_kwargs) * u.s\n",
    "\n",
    "        # start the cursor at the smallest timestep\n",
    "        time_cursor = timesteps[0]\n",
    "        current_w0 = w0\n",
    "\n",
    "        if ret_kicks:\n",
    "            drawn_kicks = []\n",
    "\n",
    "        # keep track of the orbit data throughout\n",
    "        data = []\n",
    "        for kick, kick_time in zip(kicks, kick_times):\n",
    "            # find the timesteps that occur before the kick\n",
    "            matching_timesteps = timesteps[np.logical_and(timesteps >= time_cursor, timesteps < kick_time)]\n",
    "\n",
    "            # integrate the orbit over these timesteps\n",
    "            orbits = potential.integrate_orbit(current_w0, t=matching_timesteps)\n",
    "\n",
    "            # save the orbit data\n",
    "            data.append(orbits.data)\n",
    "\n",
    "            # adjust the time\n",
    "            time_cursor = kick_time\n",
    "\n",
    "            # get new PhaseSpacePosition(s)\n",
    "            current_w0 = orbits[-1]\n",
    "\n",
    "            if isinstance(kick, tuple):\n",
    "                magnitude, phi, theta = kick\n",
    "            else:\n",
    "                # if there's only one orbit\n",
    "                if current_w0.shape == ():\n",
    "                    magnitude = kick if kick is not None\\\n",
    "                        else maxwell(maxwell_sigma).rvs() * maxwell_sigma.unit\n",
    "                    phi = np.random.uniform(0, 2 * np.pi) * u.rad\n",
    "                    theta = np.random.uniform(-np.pi / 2, np.pi / 2) * u.rad\n",
    "                else:\n",
    "                    magnitude = kick if kick is not None else\\\n",
    "                        maxwell(scale=maxwell_sigma).rvs(current_w0.shape[0]) * maxwell_sigma.unit\n",
    "\n",
    "                    if same_angle:\n",
    "                        phi_0 = np.random.uniform(0, 2 * np.pi)\n",
    "                        theta_0 = np.random.uniform(-np.pi / 2, np.pi / 2)\n",
    "                        phi = np.repeat(phi_0, repeats=current_w0.shape[0]) * u.rad\n",
    "                        theta = np.repeat(theta_0, repeats=current_w0.shape[0]) * u.rad\n",
    "                    else:\n",
    "                        phi = np.random.uniform(0, 2 * np.pi, size=current_w0.shape[0]) * u.rad\n",
    "                        theta = np.random.uniform(-np.pi / 2, np.pi / 2, size=current_w0.shape[0]) * u.rad\n",
    "\n",
    "            if ret_kicks:\n",
    "                drawn_kicks.append(Kick(magnitude=magnitude, phi=phi, theta=theta, t=kick_time))\n",
    "\n",
    "            d_x = magnitude * np.cos(phi) * np.sin(theta)\n",
    "            d_y = magnitude * np.sin(phi) * np.sin(theta)\n",
    "            d_z = magnitude * np.cos(theta)\n",
    "\n",
    "            kick_differential = coord.CartesianDifferential(d_x, d_y, d_z)\n",
    "\n",
    "            current_w0 = ga.dynamics.PhaseSpacePosition(pos=current_w0.pos,\n",
    "                                                        vel=current_w0.vel + kick_differential,\n",
    "                                                        frame=current_w0.frame)\n",
    "\n",
    "        if time_cursor < timesteps[-1]:\n",
    "            matching_timesteps = timesteps[timesteps >= time_cursor]\n",
    "            orbits = potential.integrate_orbit(current_w0, t=matching_timesteps)\n",
    "            data.append(orbits.data)\n",
    "\n",
    "        data = coord.concatenate_representations(data)\n",
    "        full_orbits = ga.dynamics.orbit.Orbit(pos=data.without_differentials(),\n",
    "                                              vel=data.differentials[\"s\"],\n",
    "                                              t=timesteps.to(u.Myr))\n",
    "\n",
    "        if ret_kicks:\n",
    "            return full_orbits, drawn_kicks if len(drawn_kicks) > 1 else drawn_kicks[0]\n",
    "        else:\n",
    "            return full_orbits\n"
   ]
  },
  {
   "cell_type": "code",
   "execution_count": null,
   "id": "dc8bf7f9-dfdd-499d-b0d8-6d0ffd254830",
   "metadata": {},
   "outputs": [],
   "source": [
    "# kicks = [(45 * u.km / u.s, 0 * u.deg, -90 * u.deg)]\n",
    "kicks = [45 * u.km / u.s]\n",
    "kick_times = [0.5 * u.Gyr]\n",
    "with_kicks, test = integrate_orbits_with_kicks(w0s, kicks=None, kick_times=kick_times, dt=4*u.Gyr / 4000, n_steps=4000, same_angle=True, ret_kicks=True)"
   ]
  },
  {
   "cell_type": "code",
   "execution_count": null,
   "id": "7636477c-2df1-4e52-a82c-b5f0f16abb07",
   "metadata": {},
   "outputs": [],
   "source": [
    "import scipy"
   ]
  },
  {
   "cell_type": "code",
   "execution_count": null,
   "id": "f413813c-ed29-44db-a8f7-e1e9e4f7f8e1",
   "metadata": {},
   "outputs": [],
   "source": [
    "scipy.__version__"
   ]
  },
  {
   "cell_type": "code",
   "execution_count": null,
   "id": "8a9a9a69-7103-4cf7-8c84-7c10f9517059",
   "metadata": {},
   "outputs": [],
   "source": [
    "from scipy.stats import maxwell\n",
    "\n",
    "v_range = np.linspace(0, 5000, 10000)\n",
    "plt.plot(v_range, maxwell(scale=265).pdf(v_range))"
   ]
  },
  {
   "cell_type": "code",
   "execution_count": null,
   "id": "71358a89-2ea8-4013-9e65-6d7f29d9a070",
   "metadata": {},
   "outputs": [],
   "source": [
    "test.magnitude"
   ]
  },
  {
   "cell_type": "code",
   "execution_count": null,
   "id": "cd1d7394-b885-4c6f-92eb-2cc6525b442c",
   "metadata": {},
   "outputs": [],
   "source": []
  },
  {
   "cell_type": "code",
   "execution_count": null,
   "id": "0cc3b84a-7401-4314-ad09-3749f541fa09",
   "metadata": {},
   "outputs": [],
   "source": [
    "test = w0s[0]"
   ]
  },
  {
   "cell_type": "code",
   "execution_count": null,
   "id": "696e9cbd-92b1-47e6-8193-002fa498dbb9",
   "metadata": {},
   "outputs": [],
   "source": [
    "orbit = integrate_orbits_with_kicks(pot, test, kicks=[None], kick_times=kick_times, dt=4 * u.Gyr / 4000, n_steps=40000)"
   ]
  },
  {
   "cell_type": "code",
   "execution_count": null,
   "id": "981c0674-8858-4483-a19a-59e36884beb7",
   "metadata": {},
   "outputs": [],
   "source": [
    "orbit = pot.integrate_orbit(test, dt=4 * u.Gyr / 4000, n_steps=40000)"
   ]
  },
  {
   "cell_type": "code",
   "execution_count": null,
   "id": "474df59d-05c3-4f85-847b-90e4584b36c4",
   "metadata": {},
   "outputs": [],
   "source": [
    "plt.hist2d(orbit.x.value, orbit.z.value, density=True)"
   ]
  },
  {
   "cell_type": "code",
   "execution_count": null,
   "id": "0e029f6b-f510-45dd-9864-d72420e6feb6",
   "metadata": {},
   "outputs": [],
   "source": [
    "orbit.x"
   ]
  },
  {
   "cell_type": "code",
   "execution_count": null,
   "id": "5bdd9357-edd4-4ba6-98fe-d36854e29be5",
   "metadata": {},
   "outputs": [],
   "source": [
    "no_kicks[:, 0]"
   ]
  },
  {
   "cell_type": "code",
   "execution_count": null,
   "id": "fa6d2133-9f63-44d3-8e1e-bf157c876968",
   "metadata": {},
   "outputs": [],
   "source": [
    "fig, ax = plt.subplots(figsize=(12, 8))\n",
    "\n",
    "# plot the sun\n",
    "_ = sun_orbit.cylindrical.plot(['rho', 'z'], axes=[ax], color='black', zorder=100)\n",
    "\n",
    "xlim = ax.get_xlim()\n",
    "ylim = ax.get_ylim()\n",
    "\n",
    "# plot the orbits with kicks\n",
    "\n",
    "rvs = np.linspace(-100, 100, 5)\n",
    "for i in range(no_kicks.shape[1]):\n",
    "    _ = no_kicks[:, i].cylindrical.plot(['rho', 'z'], axes=[ax], label=r\"$v_{{R}} = {{{}}} \\, {{\\rm km / s}}$\".format(rvs[i]))\n",
    "# _ = with_kicks.cylindrical.plot(['rho', 'z'], axes=[ax], color='tab:green')\n",
    "\n",
    "plt.legend(ncol=2)\n",
    "\n",
    "# overlay the kick positions\n",
    "# with_kicks[0].cylindrical.plot(['rho', 'z'], axes=[ax], color='black', marker=\"^\", s=100, zorder=100)\n",
    "# for t in kick_times:\n",
    "#     ind = np.where(with_kicks.t < t)[0][-1]\n",
    "#     with_kicks[ind].cylindrical.plot(['rho', 'z'], axes=[ax], color='black', s=100, zorder=100)\n",
    "\n",
    "ax.set_xlim(min(ax.get_xlim()[0], xlim[0]), max(ax.get_xlim()[1], xlim[1]))\n",
    "ax.set_ylim(min(ax.get_ylim()[0], ylim[0]), max(ax.get_ylim()[1], ylim[1]))\n",
    "\n",
    "plt.show()"
   ]
  }
 ],
 "metadata": {
  "kernelspec": {
   "display_name": "Python 3 (ipykernel)",
   "language": "python",
   "name": "python3"
  },
  "language_info": {
   "codemirror_mode": {
    "name": "ipython",
    "version": 3
   },
   "file_extension": ".py",
   "mimetype": "text/x-python",
   "name": "python",
   "nbconvert_exporter": "python",
   "pygments_lexer": "ipython3",
   "version": "3.9.7"
  }
 },
 "nbformat": 4,
 "nbformat_minor": 5
}

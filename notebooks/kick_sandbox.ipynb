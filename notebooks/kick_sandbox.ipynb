{
 "cells": [
  {
   "cell_type": "code",
   "execution_count": null,
   "id": "b7d8b7ec-9668-4533-8433-f33bc5e8cba8",
   "metadata": {},
   "outputs": [],
   "source": [
    "import astropy.coordinates as coord\n",
    "import astropy.units as u\n",
    "\n",
    "import matplotlib as mpl\n",
    "import matplotlib.pyplot as plt\n",
    "import numpy as np\n",
    "\n",
    "# gala\n",
    "import gala.coordinates as gc\n",
    "import gala.dynamics as gd\n",
    "import gala.potential as gp\n",
    "from gala.units import galactic\n",
    "\n",
    "import gala as ga\n",
    "\n",
    "import sys\n",
    "sys.path.append(\"../src\")\n",
    "from kicks import integrate_orbits_with_kicks"
   ]
  },
  {
   "cell_type": "code",
   "execution_count": null,
   "id": "9be62ea5-1ba9-4426-8349-9b87a0e632b6",
   "metadata": {},
   "outputs": [],
   "source": [
    "%config InlineBackend.figure_format = 'retina'\n",
    "%matplotlib inline\n",
    "\n",
    "plt.rc('font', family='serif')\n",
    "plt.rcParams['text.usetex'] = False\n",
    "fs = 24\n",
    "\n",
    "# update various fontsizes to match\n",
    "params = {'figure.figsize': (12, 8),\n",
    "          'legend.fontsize': fs,\n",
    "          'axes.labelsize': fs,\n",
    "          'xtick.labelsize': 0.9 * fs,\n",
    "          'ytick.labelsize': 0.9 * fs,\n",
    "          'axes.linewidth': 1.1,\n",
    "          'xtick.major.size': 7,\n",
    "          'xtick.minor.size': 4,\n",
    "          'ytick.major.size': 7,\n",
    "          'ytick.minor.size': 4}\n",
    "plt.rcParams.update(params)"
   ]
  },
  {
   "cell_type": "code",
   "execution_count": null,
   "id": "bac18bb9-149b-4268-89e0-b413fcb51c99",
   "metadata": {},
   "outputs": [],
   "source": [
    "galcen_frame = coord.Galactocentric()"
   ]
  },
  {
   "cell_type": "code",
   "execution_count": null,
   "id": "b6813d3a-d106-4957-9997-fa29a41802c8",
   "metadata": {},
   "outputs": [],
   "source": [
    "sun_w0 = gd.PhaseSpacePosition(\n",
    "    pos=[-8.2, 0, 0.02] * u.kpc,\n",
    "    vel=galcen_frame.galcen_v_sun\n",
    ")"
   ]
  },
  {
   "cell_type": "code",
   "execution_count": null,
   "id": "378b3e23-9144-4fff-bec0-9dd1de3028c3",
   "metadata": {},
   "outputs": [],
   "source": [
    "c = coord.SkyCoord(ra=\"17:51:40.2082\", dec=\"-29:53:26.502\", unit=(u.hourangle, u.degree))\n",
    "cosdec = np.cos(c.dec) \n",
    "\n",
    "w0s = []\n",
    "\n",
    "for rv in [0, 0]:\n",
    "    c = coord.SkyCoord(\n",
    "        ra=\"17:51:40.2082\",\n",
    "        dec=\"-29:53:26.502\",\n",
    "        unit=(u.hourangle, u.degree),\n",
    "        distance=1.58*u.kpc,\n",
    "        pm_ra_cosdec=-4.36*u.mas/u.yr,# * cosdec,\n",
    "        pm_dec=3.06*u.mas/u.yr,\n",
    "        radial_velocity=rv*u.km/u.s\n",
    "    )\n",
    "\n",
    "    w0 = gd.PhaseSpacePosition(c.transform_to(galcen_frame).data)\n",
    "    w0s.append(w0)\n",
    "    \n",
    "w0s = gd.combine(w0s)"
   ]
  },
  {
   "cell_type": "code",
   "execution_count": null,
   "id": "beeba8f7-e200-4300-b190-e52972aa16e9",
   "metadata": {
    "tags": []
   },
   "outputs": [],
   "source": [
    "pot = gp.MilkyWayPotential()\n",
    "orbits = pot.integrate_orbit(w0s, dt=4*u.Gyr / 4000, n_steps=4000)\n",
    "sun_orbit = pot.integrate_orbit(sun_w0, t=orbits.t)"
   ]
  },
  {
   "cell_type": "code",
   "execution_count": null,
   "id": "35cda70c-05eb-44d9-9da4-44a6d44c42eb",
   "metadata": {},
   "outputs": [],
   "source": [
    "no_kicks = integrate_orbits_with_kicks(pot, w0s, dt=4*u.Gyr / 4000, n_steps=4000)"
   ]
  },
  {
   "cell_type": "code",
   "execution_count": null,
   "id": "dc8bf7f9-dfdd-499d-b0d8-6d0ffd254830",
   "metadata": {},
   "outputs": [],
   "source": [
    "kicks = [(45 * u.km / u.s, 0 * u.deg, -90 * u.deg)]\n",
    "kicks = [45 * u.km / u.s]\n",
    "kick_times = [0.5 * u.Gyr]\n",
    "with_kicks = integrate_orbits_with_kicks(pot, w0s, kicks=kicks, kick_times=kick_times, dt=4*u.Gyr / 4000, n_steps=4000)"
   ]
  },
  {
   "cell_type": "code",
   "execution_count": null,
   "id": "fa6d2133-9f63-44d3-8e1e-bf157c876968",
   "metadata": {},
   "outputs": [],
   "source": [
    "fig, ax = plt.subplots(figsize=(12, 8))\n",
    "\n",
    "# plot the sun\n",
    "_ = sun_orbit.cylindrical.plot(['rho', 'z'], axes=[ax], color='tab:red')\n",
    "\n",
    "xlim = ax.get_xlim()\n",
    "ylim = ax.get_ylim()\n",
    "\n",
    "# plot the orbits with kicks\n",
    "_ = no_kicks.cylindrical.plot(['rho', 'z'], axes=[ax], color='tab:purple', alpha=0.5)\n",
    "_ = with_kicks.cylindrical.plot(['rho', 'z'], axes=[ax], color='tab:green')\n",
    "\n",
    "\n",
    "# overlay the kick positions\n",
    "with_kicks[0].cylindrical.plot(['rho', 'z'], axes=[ax], color='black', marker=\"^\", s=100, zorder=100)\n",
    "for t in kick_times:\n",
    "    ind = np.where(with_kicks.t < t)[0][-1]\n",
    "    with_kicks[ind].cylindrical.plot(['rho', 'z'], axes=[ax], color='black', s=100, zorder=100)\n",
    "\n",
    "ax.set_xlim(min(ax.get_xlim()[0], xlim[0]), max(ax.get_xlim()[1], xlim[1]))\n",
    "ax.set_ylim(min(ax.get_ylim()[0], ylim[0]), max(ax.get_ylim()[1], ylim[1]))\n",
    "\n",
    "plt.show()"
   ]
  }
 ],
 "metadata": {
  "kernelspec": {
   "display_name": "Python 3 (ipykernel)",
   "language": "python",
   "name": "python3"
  },
  "language_info": {
   "codemirror_mode": {
    "name": "ipython",
    "version": 3
   },
   "file_extension": ".py",
   "mimetype": "text/x-python",
   "name": "python",
   "nbconvert_exporter": "python",
   "pygments_lexer": "ipython3",
   "version": "3.9.7"
  }
 },
 "nbformat": 4,
 "nbformat_minor": 5
}

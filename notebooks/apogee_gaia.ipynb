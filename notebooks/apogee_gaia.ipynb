{
 "cells": [
  {
   "cell_type": "code",
   "execution_count": null,
   "id": "5085e26a-ae96-4c99-afb8-6640f0f3831a",
   "metadata": {},
   "outputs": [],
   "source": [
    "import matplotlib.pyplot as plt\n",
    "from matplotlib.colors import LogNorm\n",
    "\n",
    "import numpy as np\n",
    "import gala as ga\n",
    "\n",
    "import astropy.coordinates as coord\n",
    "import astropy.units as u\n",
    "from astropy.visualization import quantity_support\n",
    "quantity_support()\n",
    "from astropy.table import Table, join"
   ]
  },
  {
   "cell_type": "code",
   "execution_count": null,
   "id": "821d555b-51c2-4665-860d-b77d9ff28422",
   "metadata": {},
   "outputs": [],
   "source": [
    "%config InlineBackend.figure_format = 'retina'\n",
    "%matplotlib inline\n",
    "\n",
    "plt.rc('font', family='serif')\n",
    "plt.rcParams['text.usetex'] = False\n",
    "fs = 24\n",
    "\n",
    "# update various fontsizes to match\n",
    "params = {'figure.figsize': (12, 8),\n",
    "          'legend.fontsize': fs,\n",
    "          'axes.labelsize': fs,\n",
    "          'xtick.labelsize': 0.9 * fs,\n",
    "          'ytick.labelsize': 0.9 * fs,\n",
    "          'axes.linewidth': 1.1,\n",
    "          'xtick.major.size': 7,\n",
    "          'xtick.minor.size': 4,\n",
    "          'ytick.major.size': 7,\n",
    "          'ytick.minor.size': 4}\n",
    "plt.rcParams.update(params)"
   ]
  },
  {
   "cell_type": "code",
   "execution_count": null,
   "id": "a715d736-d179-4b2c-bc14-22f043f72985",
   "metadata": {},
   "outputs": [],
   "source": [
    "apogee = Table.read(\"../src/data/allStarLite-dr17-synspec_rev1.fits\", hdu=1)"
   ]
  },
  {
   "cell_type": "code",
   "execution_count": null,
   "id": "e714f29f-d996-4968-a11e-68659e49b580",
   "metadata": {},
   "outputs": [],
   "source": [
    "gaia = Table.read(\"../src/data/allStar-dr17-synspec-gaiaedr3-xm.fits\", hdu=1)"
   ]
  },
  {
   "cell_type": "code",
   "execution_count": null,
   "id": "8af5dcb0-311f-4758-9cdc-b8682f13c2b8",
   "metadata": {},
   "outputs": [],
   "source": [
    "tbl = join(apogee, gaia, keys=\"APOGEE_ID\")"
   ]
  },
  {
   "cell_type": "code",
   "execution_count": null,
   "id": "8fdecd66-4391-4036-b5c3-b2781a286b8d",
   "metadata": {},
   "outputs": [],
   "source": [
    "clean_tbl = tbl[\n",
    "      (tbl['LOGG'] > 1) & (tbl['LOGG'] < 5.5)  # realistic spectroscopic stellar parameters (surface gravity)\n",
    "    & (tbl['TEFF'] > 3500) & (tbl['TEFF'] < 8000)  # same (effective / surface temperature)\n",
    "    & (tbl['M_H'] > -2) & (tbl['M_H'] < 0.6)  # realistic \"bulk metallicity\" measurement\n",
    "    & (tbl['ALPHA_M'] > -1) & (tbl['ALPHA_M'] < 1)  # realistic alpha abundance measurement\n",
    "    & ((tbl['parallax'] / tbl['parallax_error']) > 8)  # well-measured parallax - the 8 is arbitrary!\n",
    "]"
   ]
  },
  {
   "cell_type": "code",
   "execution_count": null,
   "id": "679892bc-5acd-4211-b2b3-c066ae012d87",
   "metadata": {},
   "outputs": [],
   "source": [
    "fig, ax = plt.subplots()\n",
    "\n",
    "counts, xedges, yedges, im = ax.hist2d(clean_tbl[\"M_H\"], clean_tbl[\"ALPHA_M\"], bins=50, norm=LogNorm(), cmap=\"Blues\")\n",
    "cbar = fig.colorbar(im, ax=ax, label=\"Number of objects\")\n",
    "\n",
    "ax.set_xlabel(\"[Fe/H] [dex]\")\n",
    "ax.set_ylabel(r\"[$\\alpha$/Fe] [dex]\")\n",
    "\n",
    "plt.show()"
   ]
  },
  {
   "cell_type": "code",
   "execution_count": null,
   "id": "57058130-f437-4be1-8c25-a6ea1fdfe828",
   "metadata": {},
   "outputs": [],
   "source": [
    "halo = clean_tbl[\"M_H\"] < -1.25\n",
    "high_alpha_disc = np.logical_and(clean_tbl[\"M_H\"] > -1, clean_tbl[\"ALPHA_M\"] > 0.2)\n",
    "low_alpha_disc = np.logical_and(clean_tbl[\"M_H\"] > -1, clean_tbl[\"ALPHA_M\"] < 0.1)"
   ]
  },
  {
   "cell_type": "code",
   "execution_count": null,
   "id": "3181c52f-b389-4823-82e0-26c0ccf33b41",
   "metadata": {},
   "outputs": [],
   "source": [
    "galcen_frame = coord.Galactocentric()"
   ]
  },
  {
   "cell_type": "code",
   "execution_count": null,
   "id": "c79b6652-a626-406f-81f4-3fc96359a50b",
   "metadata": {},
   "outputs": [],
   "source": [
    "fig, ax = plt.subplots()\n",
    "pot = ga.potential.MilkyWayPotential()\n",
    "\n",
    "\n",
    "for mask, label in zip([halo, high_alpha_disc, low_alpha_disc], [\"Halo\", r\"High-$\\alpha$ Disc\", r\"Low-$\\alpha$ Disc\"]):\n",
    "    smaller_tbl = clean_tbl[mask]\n",
    "    some_object = smaller_tbl[0]\n",
    "    print(x)\n",
    "    c = coord.SkyCoord(\n",
    "        ra=some_object[\"ra\"],\n",
    "        dec=some_object[\"dec\"],\n",
    "        unit=(u.deg, u.deg),\n",
    "        distance=(some_object[\"parallax\"] * u.mas).to(u.arcsecond).value**(-1) * u.pc,\n",
    "        pm_ra_cosdec=some_object[\"pmra\"] * u.mas/u.yr * np.cos(some_object[\"dec\"] * u.deg),\n",
    "        pm_dec=some_object[\"pmdec\"]*u.mas/u.yr,\n",
    "        radial_velocity=some_object[\"dr2_radial_velocity\"]*u.km/u.s\n",
    "    )\n",
    "    \n",
    "    pos = ga.dynamics.PhaseSpacePosition(c.transform_to(galcen_frame).data)\n",
    "    orbits = pot.integrate_orbit(pos, t1=0*u.Gyr, t2=10*u.Gyr, n_steps=4000)\n",
    "    _ = orbits.cylindrical.plot(['rho', 'z'], axes=[ax], label=label)\n",
    "\n",
    "leg = ax.legend(ncol=3, title=\"Random objects from APOGEE/Gaia\", loc=\"upper center\")\n",
    "leg.get_title().set_fontsize(0.7*fs)\n",
    "    \n",
    "ax.set_xlim(0, 13)\n",
    "ax.set_ylim(-4.5, 5.5)\n",
    "    \n",
    "plt.show()"
   ]
  }
 ],
 "metadata": {
  "kernelspec": {
   "display_name": "Python 3 (ipykernel)",
   "language": "python",
   "name": "python3"
  },
  "language_info": {
   "codemirror_mode": {
    "name": "ipython",
    "version": 3
   },
   "file_extension": ".py",
   "mimetype": "text/x-python",
   "name": "python",
   "nbconvert_exporter": "python",
   "pygments_lexer": "ipython3",
   "version": "3.9.7"
  }
 },
 "nbformat": 4,
 "nbformat_minor": 5
}

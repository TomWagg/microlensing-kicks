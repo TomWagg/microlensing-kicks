{
 "cells": [
  {
   "cell_type": "code",
   "execution_count": null,
   "id": "0de8c04c",
   "metadata": {},
   "outputs": [],
   "source": [
    "import astropy.coordinates as coord\n",
    "import astropy.units as u\n",
    "import matplotlib as mpl\n",
    "import matplotlib.pyplot as plt\n",
    "%matplotlib inline\n",
    "import numpy as np\n",
    "\n",
    "# gala\n",
    "import gala.coordinates as gc\n",
    "import gala.dynamics as gd\n",
    "import gala.potential as gp\n",
    "from gala.units import galactic"
   ]
  },
  {
   "cell_type": "code",
   "execution_count": null,
   "id": "0f582b47",
   "metadata": {},
   "outputs": [],
   "source": [
    "galcen_frame = coord.Galactocentric()"
   ]
  },
  {
   "cell_type": "code",
   "execution_count": null,
   "id": "b6c79bc2",
   "metadata": {},
   "outputs": [],
   "source": [
    "sun_w0 = gd.PhaseSpacePosition(\n",
    "    pos=[-8.2, 0, 0.02] * u.kpc,\n",
    "    vel=galcen_frame.galcen_v_sun\n",
    ")"
   ]
  },
  {
   "cell_type": "code",
   "execution_count": null,
   "id": "dc934317",
   "metadata": {},
   "outputs": [],
   "source": [
    "w0s = []\n",
    "\n",
    "for rv in np.linspace(-100, 100, 8):\n",
    "    c = coord.SkyCoord(\n",
    "        ra=\"17:51:40.2082\",\n",
    "        dec=\"-29:53:26.502\",\n",
    "        unit=(u.hourangle, u.degree),\n",
    "        distance=1.58*u.kpc,\n",
    "        pm_ra_cosdec=-4.36*u.mas/u.yr,\n",
    "        pm_dec=3.06*u.mas/u.yr,\n",
    "        radial_velocity=rv*u.km/u.s\n",
    "    )\n",
    "\n",
    "    w0 = gd.PhaseSpacePosition(c.transform_to(galcen_frame).data)\n",
    "    w0s.append(w0)\n",
    "    \n",
    "w0s = gd.combine(w0s)"
   ]
  },
  {
   "cell_type": "code",
   "execution_count": null,
   "id": "dbabfc95",
   "metadata": {},
   "outputs": [],
   "source": [
    "c.galactic"
   ]
  },
  {
   "cell_type": "code",
   "execution_count": null,
   "id": "3c126206",
   "metadata": {},
   "outputs": [],
   "source": [
    "(c.galactic.pm_l_cosb * c.distance).to(u.km/u.s, u.dimensionless_angles())"
   ]
  },
  {
   "cell_type": "code",
   "execution_count": null,
   "id": "e65b3fc9",
   "metadata": {},
   "outputs": [],
   "source": [
    "pot = gp.MilkyWayPotential()\n",
    "orbits = pot.integrate_orbit(w0s, dt=-1, t1=0, t2=-4*u.Gyr)\n",
    "sun_orbit = pot.integrate_orbit(sun_w0, t=orbits.t)\n",
    "\n",
    "fig, ax = plt.subplots(figsize=(8, 8))\n",
    "_ = orbits.cylindrical.plot(['rho', 'z'], axes=[ax], color='k', alpha=0.5)\n",
    "_ = sun_orbit.cylindrical.plot(['rho', 'z'], axes=[ax], color='tab:red')\n",
    "ax.set_xlim(6, 10)\n",
    "ax.set_ylim(-1, 1)"
   ]
  },
  {
   "cell_type": "code",
   "execution_count": null,
   "id": "64b6505f",
   "metadata": {},
   "outputs": [],
   "source": []
  }
 ],
 "metadata": {
  "gist": {
   "data": {
    "description": "",
    "public": true
   },
   "id": ""
  },
  "kernelspec": {
   "display_name": "Python 3 (ipykernel)",
   "language": "python",
   "name": "python3"
  },
  "language_info": {
   "codemirror_mode": {
    "name": "ipython",
    "version": 3
   },
   "file_extension": ".py",
   "mimetype": "text/x-python",
   "name": "python",
   "nbconvert_exporter": "python",
   "pygments_lexer": "ipython3",
   "version": "3.9.7"
  },
  "toc": {
   "base_numbering": 1,
   "nav_menu": {},
   "number_sections": true,
   "sideBar": true,
   "skip_h1_title": false,
   "title_cell": "Table of Contents",
   "title_sidebar": "Contents",
   "toc_cell": false,
   "toc_position": {},
   "toc_section_display": true,
   "toc_window_display": false
  }
 },
 "nbformat": 4,
 "nbformat_minor": 5
}
